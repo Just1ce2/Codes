{
 "cells": [
  {
   "cell_type": "code",
   "execution_count": 4,
   "id": "6bd94425",
   "metadata": {},
   "outputs": [
    {
     "name": "stdout",
     "output_type": "stream",
     "text": [
      "   "
     ]
    },
    {
     "ename": "IndexError",
     "evalue": "list index out of range",
     "output_type": "error",
     "traceback": [
      "\u001b[1;31m---------------------------------------------------------------------------\u001b[0m",
      "\u001b[1;31mIndexError\u001b[0m                                Traceback (most recent call last)",
      "\u001b[1;32m<ipython-input-4-05be423d7b0d>\u001b[0m in \u001b[0;36m<module>\u001b[1;34m\u001b[0m\n\u001b[0;32m     12\u001b[0m         \u001b[0mprint\u001b[0m\u001b[1;33m(\u001b[0m\u001b[1;34m\" \"\u001b[0m\u001b[1;33m*\u001b[0m\u001b[1;33m(\u001b[0m\u001b[0mn\u001b[0m\u001b[1;33m-\u001b[0m\u001b[0mi\u001b[0m\u001b[1;33m)\u001b[0m\u001b[1;33m,\u001b[0m\u001b[0mend\u001b[0m\u001b[1;33m=\u001b[0m\u001b[1;34m\" \"\u001b[0m\u001b[1;33m,\u001b[0m\u001b[0msep\u001b[0m \u001b[1;33m=\u001b[0m\u001b[1;34m\" \"\u001b[0m\u001b[1;33m)\u001b[0m\u001b[1;33m\u001b[0m\u001b[1;33m\u001b[0m\u001b[0m\n\u001b[0;32m     13\u001b[0m         \u001b[1;32mfor\u001b[0m \u001b[0mx\u001b[0m \u001b[1;32min\u001b[0m \u001b[0mrange\u001b[0m\u001b[1;33m(\u001b[0m\u001b[1;36m0\u001b[0m\u001b[1;33m,\u001b[0m\u001b[0mi\u001b[0m\u001b[1;33m+\u001b[0m\u001b[1;36m1\u001b[0m\u001b[1;33m)\u001b[0m\u001b[1;33m:\u001b[0m\u001b[1;33m\u001b[0m\u001b[1;33m\u001b[0m\u001b[0m\n\u001b[1;32m---> 14\u001b[1;33m             \u001b[0mprint\u001b[0m\u001b[1;33m(\u001b[0m\u001b[1;33m(\u001b[0m\u001b[0mp\u001b[0m\u001b[1;33m[\u001b[0m\u001b[0mi\u001b[0m\u001b[1;33m]\u001b[0m\u001b[1;33m[\u001b[0m\u001b[0mx\u001b[0m\u001b[1;33m]\u001b[0m\u001b[1;33m)\u001b[0m\u001b[1;33m)\u001b[0m\u001b[1;33m\u001b[0m\u001b[1;33m\u001b[0m\u001b[0m\n\u001b[0m\u001b[0;32m     15\u001b[0m     \u001b[0mprint\u001b[0m\u001b[1;33m(\u001b[0m\u001b[1;33m)\u001b[0m\u001b[1;33m\u001b[0m\u001b[1;33m\u001b[0m\u001b[0m\n\u001b[0;32m     16\u001b[0m \u001b[0mp\u001b[0m\u001b[1;33m\u001b[0m\u001b[1;33m\u001b[0m\u001b[0m\n",
      "\u001b[1;31mIndexError\u001b[0m: list index out of range"
     ]
    }
   ],
   "source": [
    "p = []\n",
    "n = 2\n",
    "for i in range(n):\n",
    "    p.append([])\n",
    "    p.append(1)\n",
    "    for x in range(1,i):\n",
    "            a = p[i-1][x-1]+p[i-1][x]\n",
    "            p.append(a)\n",
    "            if n != 0:\n",
    "                p.append(1)\n",
    "    for i in range(n):\n",
    "        print(\" \"*(n-i),end=\" \",sep =\" \")\n",
    "        for x in range(0,i+1):\n",
    "            print((p[i][x]))\n",
    "    print()\n",
    "p"
   ]
  },
  {
   "cell_type": "markdown",
   "id": "5804b81a",
   "metadata": {},
   "source": [
    " def unit_equilateral(n):\n",
    "    \n",
    "    import cmath\n",
    "    comp = []\n",
    "    vert = []\n",
    "    for k in range(3):\n",
    "        z = cmath.cos((2*k*cmath.pi)/3)+(cmath.sin((2*k*cmath.pi)/3)*1j)\n",
    "        comp.append(z+n)\n",
    "        comp[k]\n",
    "    return comp"
   ]
  },
  {
   "cell_type": "code",
   "execution_count": null,
   "id": "dc34eef4",
   "metadata": {},
   "outputs": [],
   "source": [
    "import math\n",
    "import cmath\n",
    "k=1\n",
    "a = (math.sin((2*k*math.pi)/3)\n",
    "cmath.a*1j"
   ]
  },
  {
   "cell_type": "code",
   "execution_count": 34,
   "id": "1716fab2",
   "metadata": {},
   "outputs": [
    {
     "name": "stdout",
     "output_type": "stream",
     "text": [
      "   "
     ]
    },
    {
     "ename": "TypeError",
     "evalue": "format() takes no keyword arguments",
     "output_type": "error",
     "traceback": [
      "\u001b[1;31m---------------------------------------------------------------------------\u001b[0m",
      "\u001b[1;31mTypeError\u001b[0m                                 Traceback (most recent call last)",
      "\u001b[1;32m<ipython-input-34-9288301564b5>\u001b[0m in \u001b[0;36m<module>\u001b[1;34m\u001b[0m\n\u001b[0;32m     11\u001b[0m         \u001b[0mprint\u001b[0m\u001b[1;33m(\u001b[0m\u001b[1;34m\" \"\u001b[0m\u001b[1;33m*\u001b[0m\u001b[1;33m(\u001b[0m\u001b[0mn\u001b[0m\u001b[1;33m-\u001b[0m\u001b[0mi\u001b[0m\u001b[1;33m)\u001b[0m\u001b[1;33m,\u001b[0m\u001b[0mend\u001b[0m\u001b[1;33m=\u001b[0m\u001b[1;34m\" \"\u001b[0m\u001b[1;33m,\u001b[0m\u001b[0msep\u001b[0m \u001b[1;33m=\u001b[0m\u001b[1;34m\" \"\u001b[0m\u001b[1;33m)\u001b[0m\u001b[1;33m\u001b[0m\u001b[1;33m\u001b[0m\u001b[0m\n\u001b[0;32m     12\u001b[0m         \u001b[1;32mfor\u001b[0m \u001b[0mx\u001b[0m \u001b[1;32min\u001b[0m \u001b[0mrange\u001b[0m\u001b[1;33m(\u001b[0m\u001b[1;36m0\u001b[0m\u001b[1;33m,\u001b[0m\u001b[0mi\u001b[0m\u001b[1;33m+\u001b[0m\u001b[1;36m1\u001b[0m\u001b[1;33m)\u001b[0m\u001b[1;33m:\u001b[0m\u001b[1;33m\u001b[0m\u001b[1;33m\u001b[0m\u001b[0m\n\u001b[1;32m---> 13\u001b[1;33m             \u001b[0mprint\u001b[0m\u001b[1;33m(\u001b[0m\u001b[0mformat\u001b[0m\u001b[1;33m(\u001b[0m\u001b[0mp\u001b[0m\u001b[1;33m[\u001b[0m\u001b[0mi\u001b[0m\u001b[1;33m]\u001b[0m\u001b[1;33m[\u001b[0m\u001b[0mx\u001b[0m\u001b[1;33m]\u001b[0m\u001b[1;33m,\u001b[0m\u001b[0mend\u001b[0m\u001b[1;33m=\u001b[0m\u001b[1;34m\" \"\u001b[0m\u001b[1;33m,\u001b[0m\u001b[0msep\u001b[0m \u001b[1;33m=\u001b[0m\u001b[1;34m\" \"\u001b[0m\u001b[1;33m)\u001b[0m\u001b[1;33m)\u001b[0m\u001b[1;33m\u001b[0m\u001b[1;33m\u001b[0m\u001b[0m\n\u001b[0m\u001b[0;32m     14\u001b[0m     \u001b[0mprint\u001b[0m\u001b[1;33m(\u001b[0m\u001b[1;33m)\u001b[0m\u001b[1;33m\u001b[0m\u001b[1;33m\u001b[0m\u001b[0m\n\u001b[0;32m     15\u001b[0m \u001b[1;33m\u001b[0m\u001b[0m\n",
      "\u001b[1;31mTypeError\u001b[0m: format() takes no keyword arguments"
     ]
    }
   ],
   "source": [
    "p = []\n",
    "n = 2\n",
    "for i in range(n):\n",
    "    p.append([1])\n",
    "    for x in range(1,i):\n",
    "            a = p[i-1][x-1]+p[i-1][x]\n",
    "            p.append(a)\n",
    "            if n != 0:\n",
    "                p.append(1)\n",
    "    for i in range(n):\n",
    "        print(\" \"*(n-i),end=\" \",sep =\" \")\n",
    "        for x in range(0,i+1):\n",
    "            print(format(p[i][x],end=\" \",sep =\" \"))\n",
    "    print()\n",
    "    \n",
    "p"
   ]
  },
  {
   "cell_type": "code",
   "execution_count": null,
   "id": "ab2832dc",
   "metadata": {},
   "outputs": [],
   "source": [
    "n=3\n",
    "row0 =[1]\n",
    "row1 =[1,1]\n",
    "x = [1,1]\n",
    "y = [1,1]\n",
    "i = 1\n",
    "j = 2\n",
    "if n == 0:\n",
    "    print(row0)\n",
    "elif n== 1:\n",
    "    print(row1)\n",
    "else:\n",
    "    while i<j and j< n+ 1:\n",
    "        x.append(x[i]+x[i-1])\n",
    "        if i == j:\n",
    "            i=1\n",
    "            j+=1\n",
    "            x=y\n",
    "            y = [1,1]\n"
   ]
  },
  {
   "cell_type": "code",
   "execution_count": null,
   "id": "0850f29e",
   "metadata": {},
   "outputs": [],
   "source": [
    "unit_equilateral(1)"
   ]
  },
  {
   "cell_type": "code",
   "execution_count": 29,
   "id": "63485379",
   "metadata": {},
   "outputs": [
    {
     "data": {
      "text/plain": [
       "[(2.0, 3.0),\n",
       " (0.5000000000000002, 3.866025403784439),\n",
       " (0.49999999999999956, 2.1339745962155616)]"
      ]
     },
     "execution_count": 29,
     "metadata": {},
     "output_type": "execute_result"
    }
   ],
   "source": [
    "import cmath\n",
    "comp = []\n",
    "n = 1+ 3j\n",
    "vert = []\n",
    "for k in range(3):\n",
    "    z = cmath.cos((2*k*cmath.pi)/3)+(cmath.sin((2*k*cmath.pi)/3)*1j)\n",
    "    comp.append(z+n)\n",
    "    x=[i.real for i in comp]\n",
    "    y = [i.imag for i in comp]\n",
    "    vert.append((x[k],y[k]))\n",
    "        \n",
    "    \n",
    "vert"
   ]
  },
  {
   "cell_type": "code",
   "execution_count": 27,
   "id": "837cfe08",
   "metadata": {},
   "outputs": [
    {
     "data": {
      "text/plain": [
       "[2.0, 0.5000000000000002, 0.49999999999999956]"
      ]
     },
     "execution_count": 27,
     "metadata": {},
     "output_type": "execute_result"
    }
   ],
   "source": [
    "x"
   ]
  },
  {
   "cell_type": "code",
   "execution_count": 28,
   "id": "d63acbb0",
   "metadata": {},
   "outputs": [
    {
     "data": {
      "text/plain": [
       "[3.0, 3.866025403784439, 2.1339745962155616]"
      ]
     },
     "execution_count": 28,
     "metadata": {},
     "output_type": "execute_result"
    }
   ],
   "source": [
    "y"
   ]
  },
  {
   "cell_type": "code",
   "execution_count": 2,
   "id": "164475af",
   "metadata": {},
   "outputs": [],
   "source": [
    "def pascals(n):\n",
    "    p =[]\n",
    "    for i in range(0,n):\n",
    "        p.append([])\n",
    "        p[i].append(1)\n",
    "        for k in range(1,i):\n",
    "            p[i].append(p[i-1][k-1]+ p[i-1][k])\n",
    "        if i != 0:\n",
    "            p[i].append(1)\n",
    "    return p\n",
    "    \n",
    "    "
   ]
  },
  {
   "cell_type": "code",
   "execution_count": 5,
   "id": "61831bcf",
   "metadata": {},
   "outputs": [
    {
     "data": {
      "text/plain": [
       "[[1], [1, 1], [1, 2, 1], [1, 3, 3, 1]]"
      ]
     },
     "execution_count": 5,
     "metadata": {},
     "output_type": "execute_result"
    }
   ],
   "source": [
    "pascals(4)"
   ]
  },
  {
   "cell_type": "markdown",
   "id": "5427a8c2",
   "metadata": {},
   "source": [
    "### "
   ]
  }
 ],
 "metadata": {
  "kernelspec": {
   "display_name": "Python 3",
   "language": "python",
   "name": "python3"
  },
  "language_info": {
   "codemirror_mode": {
    "name": "ipython",
    "version": 3
   },
   "file_extension": ".py",
   "mimetype": "text/x-python",
   "name": "python",
   "nbconvert_exporter": "python",
   "pygments_lexer": "ipython3",
   "version": "3.8.8"
  }
 },
 "nbformat": 4,
 "nbformat_minor": 5
}
