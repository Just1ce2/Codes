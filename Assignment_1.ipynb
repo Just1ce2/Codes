{
 "cells": [
  {
   "cell_type": "markdown",
   "id": "06382656",
   "metadata": {},
   "source": [
    "Before you turn this problem in, make sure everything runs as expected. First, **restart the kernel** (in the menubar, select Kernel$\\rightarrow$Restart) and then **run all cells** (in the menubar, select Cell$\\rightarrow$Run All).\n",
    "\n",
    "Make sure you fill in any place that says `YOUR CODE HERE` or \"YOUR ANSWER HERE\", as well as your name and collaborators below:"
   ]
  },
  {
   "cell_type": "code",
   "execution_count": 1,
   "id": "399ca79a",
   "metadata": {},
   "outputs": [],
   "source": [
    "NAME = \"Justice Viwordzi\"\n",
    "COLLABORATORS = \"\""
   ]
  },
  {
   "cell_type": "markdown",
   "id": "4c57fa85",
   "metadata": {},
   "source": [
    "---"
   ]
  },
  {
   "cell_type": "markdown",
   "id": "36a73867",
   "metadata": {
    "deletable": false,
    "editable": false,
    "nbgrader": {
     "cell_type": "markdown",
     "checksum": "fead3fbe4c12437398025ae65c3e40ee",
     "grade": false,
     "grade_id": "cell-eee136c39b10779f",
     "locked": true,
     "schema_version": 3,
     "solution": false,
     "task": false
    }
   },
   "source": [
    "Welcome to the first assignment for Math220. It is advisable to create your personal jupyter notebook, solve the problems in there. After everything has been tested by you then you enter your code in the space provided. Assignments are individual assignments. You must not copy someone's work and submit as your own. You will be penalized when caught. Use the variable and function names just as indicated by the question. Failure to do so might cost you valuable marks."
   ]
  },
  {
   "cell_type": "markdown",
   "id": "0139a080",
   "metadata": {
    "deletable": false,
    "editable": false,
    "nbgrader": {
     "cell_type": "markdown",
     "checksum": "45ce35c334d89e06c2d60e954e11065b",
     "grade": false,
     "grade_id": "cell-27f49f81ca77627a",
     "locked": true,
     "schema_version": 3,
     "solution": false,
     "task": false
    }
   },
   "source": [
    "There are a number of ways to find a character in a string. But in this exercise, you will find all occurrences of the space character within a given string. You will write a function strlocs that takes as input a string and returns a list with all occurences of a space. Example for the string 'this is a python test file', it will return the list [4,7,9,16,21] which are index positions of all occurrences of the space character in the string."
   ]
  },
  {
   "cell_type": "code",
   "execution_count": 2,
   "id": "6e579288",
   "metadata": {
    "deletable": false,
    "nbgrader": {
     "cell_type": "code",
     "checksum": "751eb960e9e5efff217f5966997719b8",
     "grade": false,
     "grade_id": "cell-44f3020b99855cff",
     "locked": false,
     "schema_version": 3,
     "solution": true,
     "task": false
    }
   },
   "outputs": [],
   "source": [
    "def strlocs(h):\n",
    "    occurrence = []\n",
    "    for i in range(len(h)):\n",
    "        if h[i]==\" \":\n",
    "            occurrence.append(i)\n",
    "    return occurrence\n",
    "    # YOUR CODE HERE\n",
    "    raise NotImplementedError()"
   ]
  },
  {
   "cell_type": "code",
   "execution_count": null,
   "id": "3f8c538f",
   "metadata": {
    "deletable": false,
    "editable": false,
    "nbgrader": {
     "cell_type": "code",
     "checksum": "66481d3ab6758e5a2e21320c8432c0d8",
     "grade": true,
     "grade_id": "cell-7cabd6110dfb4a49",
     "locked": true,
     "points": 10,
     "schema_version": 3,
     "solution": false,
     "task": false
    }
   },
   "outputs": [],
   "source": []
  },
  {
   "cell_type": "markdown",
   "id": "a657a536",
   "metadata": {
    "deletable": false,
    "editable": false,
    "nbgrader": {
     "cell_type": "markdown",
     "checksum": "3f07aea8f04d8c12bffe9afd6503d182",
     "grade": false,
     "grade_id": "cell-731c5352fa8a0648",
     "locked": true,
     "schema_version": 3,
     "solution": false,
     "task": false
    }
   },
   "source": [
    "###### Pascals triangle has the form\n",
    "```\n",
    "          1\n",
    "        1   1\n",
    "      1   2    1\n",
    "    1   3    3    1\n",
    "  1   4    6    4   1\n",
    "1   5   10   10   5   1\n",
    "```\n",
    "The rows of Pascal's triangle are numbered from 0 which is the top of the triangle. So we have that Pascals(0)=[1],\n",
    "Pascals(1)=[1,1]. From i=2, we can derive the ith row of Pascal's triangle from the previous row in the following manner:\n",
    "1. Row i of Pascal's triangle has one more element than the previous row.\n",
    "2. The end points of each row has the value 1. The inner values are derived from the previous one using the relationship $$P^i_j = P^{i-1}_j+P^{i-1}_{j-1}, \\;j=1,2,i-1$$\n",
    "\n",
    "Write a function pascals(n) that iteratively builds the nth row of Pascal's triangle begining from row 0 = [1] and row 1 = [1,1]. Your function should return the list of coefficients"
   ]
  },
  {
   "cell_type": "code",
   "execution_count": 3,
   "id": "fd5af4dc",
   "metadata": {
    "deletable": false,
    "nbgrader": {
     "cell_type": "code",
     "checksum": "939d8791ca2c5d8ad6a49fe87cf80fdf",
     "grade": false,
     "grade_id": "cell-f91af349a305b985",
     "locked": false,
     "schema_version": 3,
     "solution": true,
     "task": false
    }
   },
   "outputs": [
    {
     "ename": "IndentationError",
     "evalue": "unexpected indent (<ipython-input-3-33a80ccb6d0a>, line 15)",
     "output_type": "error",
     "traceback": [
      "\u001b[1;36m  File \u001b[1;32m\"<ipython-input-3-33a80ccb6d0a>\"\u001b[1;36m, line \u001b[1;32m15\u001b[0m\n\u001b[1;33m    t\u001b[0m\n\u001b[1;37m    ^\u001b[0m\n\u001b[1;31mIndentationError\u001b[0m\u001b[1;31m:\u001b[0m unexpected indent\n"
     ]
    }
   ],
   "source": [
    "def pascals(n):\n",
    "    p =[]\n",
    "    for i in range(0,n):\n",
    "        p.append([])\n",
    "        p[i].append(1)\n",
    "        for k in range(1,i):\n",
    "            p[i].append(p[i-1][k-1]+ p[i-1][k])\n",
    "        if i != 0:\n",
    "            p[i].append(1)\n",
    "    return p\n",
    "    \n",
    "    \n",
    "    # YOUR CODE HERE\n",
    "    raise NotImplementedError()\n",
    "      t"
   ]
  },
  {
   "cell_type": "code",
   "execution_count": null,
   "id": "bb6b2a20",
   "metadata": {
    "deletable": false,
    "editable": false,
    "nbgrader": {
     "cell_type": "code",
     "checksum": "2e907db95c05221d161d28090ef3397f",
     "grade": true,
     "grade_id": "cell-a8e6948c5c32c312",
     "locked": true,
     "points": 2,
     "schema_version": 3,
     "solution": false,
     "task": false
    }
   },
   "outputs": [],
   "source": []
  },
  {
   "cell_type": "code",
   "execution_count": null,
   "id": "e99be81f",
   "metadata": {
    "deletable": false,
    "editable": false,
    "nbgrader": {
     "cell_type": "code",
     "checksum": "3bbcc61dd99c4900ae9c5ca88de8048c",
     "grade": true,
     "grade_id": "cell-e53ee67165a4fa49",
     "locked": true,
     "points": 2,
     "schema_version": 3,
     "solution": false,
     "task": false
    }
   },
   "outputs": [],
   "source": []
  },
  {
   "cell_type": "code",
   "execution_count": null,
   "id": "0fba40eb",
   "metadata": {
    "deletable": false,
    "editable": false,
    "nbgrader": {
     "cell_type": "code",
     "checksum": "a76a7eecce2fc66c45ce2b472740c801",
     "grade": true,
     "grade_id": "cell-904e21b75199690a",
     "locked": true,
     "points": 6,
     "schema_version": 3,
     "solution": false,
     "task": false
    }
   },
   "outputs": [],
   "source": []
  },
  {
   "cell_type": "code",
   "execution_count": null,
   "id": "c0675248",
   "metadata": {
    "deletable": false,
    "editable": false,
    "nbgrader": {
     "cell_type": "code",
     "checksum": "579ea8c56b411b65fbb37020c87643a5",
     "grade": false,
     "grade_id": "cell-9564a46fca342b3b",
     "locked": true,
     "schema_version": 3,
     "solution": false,
     "task": false
    }
   },
   "outputs": [],
   "source": [
    "from string import ascii_lowercase\n",
    "alphabet_list = list(ascii_lowercase)\n",
    "alphabet_list = [' ']+alphabet_list"
   ]
  },
  {
   "cell_type": "markdown",
   "id": "4acaaf34",
   "metadata": {
    "deletable": false,
    "editable": false,
    "nbgrader": {
     "cell_type": "markdown",
     "checksum": "168b16611b5f2021fd24cbe0cf174ea5",
     "grade": false,
     "grade_id": "cell-0d79d6918b7bc0e8",
     "locked": true,
     "schema_version": 3,
     "solution": false,
     "task": false
    }
   },
   "source": [
    "Consider the string 'qefpxfpxzypf xmvqelk'. This string contains a hidden message. Every letter in the original message is taken from the list alphabet_list above (You therefore need to execute the above cell to make the variable alphabet_list available to python). Each character in the original message is shifted three characters to the left to create this scrambled message. To retrieve the original message, every character in the message should be shifted three characters to the right. Since the list alphabet_list has 27 characters (including the space character), the position of each original character can be determined from that of the scrambled using the relation $$x \\rightarrow x + 3 \\; \\left(\\mathsf{mod} \\; 27\\right)$$\n",
    "Break the cipher by extracting the original text into the variable y. Note: y should be a string."
   ]
  },
  {
   "cell_type": "markdown",
   "id": "eddee846",
   "metadata": {
    "deletable": false,
    "nbgrader": {
     "cell_type": "code",
     "checksum": "8c7aafac7ed82575bdc43aa1ac9a6f19",
     "grade": false,
     "grade_id": "cell-40a27be3ab18ebf0",
     "locked": false,
     "schema_version": 3,
     "solution": true,
     "task": false
    }
   },
   "source": [
    " x = 'qefpxfpxzypf xmvqelk'\n",
    "y = ''\n",
    " YOUR CODE HERE                                                                                                                                                                                                                                                                                                                                                                                \n",
    " for i in x:\n",
    "    for x in alphabet_list:\n",
    "         x =(alphabet_list.index(i)+3)%27\n",
    "    y = y +  alphabet_list[x]\n",
    "raise NotImplementedError()\n",
    "y"
   ]
  },
  {
   "cell_type": "code",
   "execution_count": null,
   "id": "42a00c87",
   "metadata": {
    "deletable": false,
    "editable": false,
    "nbgrader": {
     "cell_type": "code",
     "checksum": "69b021a53a6f6150e325989aedacf438",
     "grade": true,
     "grade_id": "cell-76dbc74b6413dd64",
     "locked": true,
     "points": 5,
     "schema_version": 3,
     "solution": false,
     "task": false
    }
   },
   "outputs": [],
   "source": []
  },
  {
   "cell_type": "markdown",
   "id": "08f766f9",
   "metadata": {
    "deletable": false,
    "editable": false,
    "nbgrader": {
     "cell_type": "markdown",
     "checksum": "1dcbf24741dc7546ce803be9bf4ea0a8",
     "grade": false,
     "grade_id": "cell-d899b2bd13317223",
     "locked": true,
     "schema_version": 3,
     "solution": false,
     "task": false
    }
   },
   "source": [
    "We studied in basic algebra under complex numbers that the nth roots of unity:\n",
    "$$ z^n = 1 \\Rightarrow z = \\left( \\cos\\left( \\frac{2k\\pi}{n}\\right)+i\\sin\\left( \\frac{2k\\pi}{n}\\right) \\right),\\; k=0,1,..n-1$$\n",
    "selects n equally spaced points on the unit circle. \n",
    "\n",
    "One implication of this is that if we find the cube roots of unity, we can create an equilateral triangle. Thus, One way to find an equilateral triangle on a unit circle centered at the origin is using the expression:\n",
    "$$ z^3 = 1 \\Rightarrow z = \\left( \\cos\\left( \\frac{2k\\pi}{3}\\right)+i\\sin\\left( \\frac{2k\\pi}{3}\\right) \\right),\\; k=0,1,2$$\n",
    "\n",
    "One way therefore to create an equilateral triangle with one vertex at an arbitrary point, is to translate the vertices above by the position vector of the arbitrary point. Which just amounts to addition of complex numbers.\n",
    "\n",
    "Thus to get an equilateral triangle with one vertex at (2,3) we can find the cube root of unity and add the complex number $1+3i$ to each vertex since (1,0) is a vertex of the cube root of unity. \n",
    "\n",
    "Create a function unit_equilateral(n) that takes as input a complex number and returns an equilateral triangle with one vertex centred at the point. Your code should return a list a list of 3 complex numbers where each element in the list is a vertex of the triangle."
   ]
  },
  {
   "cell_type": "code",
   "execution_count": null,
   "id": "78ac58a7",
   "metadata": {
    "deletable": false,
    "nbgrader": {
     "cell_type": "code",
     "checksum": "9dca72917047860070405f40a805c246",
     "grade": false,
     "grade_id": "cell-961df648ae1b17aa",
     "locked": false,
     "schema_version": 3,
     "solution": true,
     "task": false
    }
   },
   "outputs": [],
   "source": [
    "def unit_equilateral(n):\n",
    "    # YOUR CODE HERE\n",
    "    import cmath\n",
    "    comp = []\n",
    "    for k in range(3):\n",
    "        z = cmath.cos((2*k*cmath.pi)/3)+(cmath.sin((2*k*cmath.pi)/3)*1j)\n",
    "        comp.append(z+n)\n",
    "        comp[k]\n",
    "    return comp\n",
    "    raise NotImplementedError()"
   ]
  },
  {
   "cell_type": "code",
   "execution_count": null,
   "id": "fff23d28",
   "metadata": {
    "deletable": false,
    "editable": false,
    "nbgrader": {
     "cell_type": "code",
     "checksum": "76d449814baafce8b14461cd711c13f1",
     "grade": true,
     "grade_id": "cell-f4486151e84d7b2a",
     "locked": true,
     "points": 5,
     "schema_version": 3,
     "solution": false,
     "task": false
    }
   },
   "outputs": [],
   "source": []
  },
  {
   "cell_type": "code",
   "execution_count": null,
   "id": "cf8f4b8c",
   "metadata": {},
   "outputs": [],
   "source": []
  }
 ],
 "metadata": {
  "kernelspec": {
   "display_name": "Python 3",
   "language": "python",
   "name": "python3"
  },
  "language_info": {
   "codemirror_mode": {
    "name": "ipython",
    "version": 3
   },
   "file_extension": ".py",
   "mimetype": "text/x-python",
   "name": "python",
   "nbconvert_exporter": "python",
   "pygments_lexer": "ipython3",
   "version": "3.8.8"
  }
 },
 "nbformat": 4,
 "nbformat_minor": 5
}
