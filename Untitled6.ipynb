{
 "cells": [
  {
   "cell_type": "code",
   "execution_count": 2,
   "id": "a1314ac0",
   "metadata": {},
   "outputs": [],
   "source": [
    "\n",
    "def nextpow2(x):\n",
    "    from math import log2,ceil\n",
    "    if x == 0:\n",
    "        return 1\n",
    "    else:\n",
    "        n = ceil(log2(x))\n",
    "    return 2**n\n"
   ]
  },
  {
   "cell_type": "code",
   "execution_count": 3,
   "id": "18175d75",
   "metadata": {},
   "outputs": [
    {
     "data": {
      "text/plain": [
       "16"
      ]
     },
     "execution_count": 3,
     "metadata": {},
     "output_type": "execute_result"
    }
   ],
   "source": [
    "nextpow2(12)"
   ]
  },
  {
   "cell_type": "code",
   "execution_count": 78,
   "id": "5f5446ce",
   "metadata": {},
   "outputs": [
    {
     "name": "stdout",
     "output_type": "stream",
     "text": [
      "True\n"
     ]
    }
   ],
   "source": [
    "\n",
    "def iGP(li): \n",
    " if len(li) <= 1: \n",
    "  return True \n",
    "   \n",
    " # Calculate ratio \n",
    " ratio = li[1]/float(li[0]) \n",
    "  \n",
    " # Check the ratio of the remaining \n",
    " for i in range(1, len(li)): \n",
    "  if li[i]/float(li[i-1]) != ratio: \n",
    "   return False \n",
    " return True \n",
    " \n",
    "print(iGP([2, 6, 18, 54]))"
   ]
  },
  {
   "cell_type": "code",
   "execution_count": 79,
   "id": "d9488bbf",
   "metadata": {},
   "outputs": [],
   "source": [
    "def isGP(inlist):\n",
    "    if len(inlist) <= 1:\n",
    "        return True\n",
    "    ratio = inlist[1]/float(inlist[0]) \n",
    "    for i in range(1,len(inlist)):\n",
    "        if inlist[i]/float(inlist[i-1]) != ratio: \n",
    "            return False\n",
    "    return True "
   ]
  },
  {
   "cell_type": "code",
   "execution_count": 81,
   "id": "2c22f123",
   "metadata": {},
   "outputs": [
    {
     "data": {
      "text/plain": [
       "True"
      ]
     },
     "execution_count": 81,
     "metadata": {},
     "output_type": "execute_result"
    }
   ],
   "source": [
    " isGP([2,4,8,16])\n"
   ]
  },
  {
   "cell_type": "code",
   "execution_count": 2,
   "id": "06a8ca80",
   "metadata": {},
   "outputs": [
    {
     "name": "stdout",
     "output_type": "stream",
     "text": [
      "1\n"
     ]
    }
   ],
   "source": []
  },
  {
   "cell_type": "code",
   "execution_count": 82,
   "id": "33cb9aca",
   "metadata": {},
   "outputs": [],
   "source": [
    "def ln(x,h):\n",
    "    from math import ceil\n",
    "    Area = 0\n",
    "    if x == 0:\n",
    "        return 'Undefined'\n",
    "    n = ceil((x-1)/h)\n",
    "    for i in range(1,n+1):\n",
    "        area = h/(1+h*i)\n",
    "        Area = Area + area\n",
    "    return Area\n",
    "        "
   ]
  },
  {
   "cell_type": "code",
   "execution_count": 83,
   "id": "870f7532",
   "metadata": {},
   "outputs": [
    {
     "data": {
      "text/plain": [
       "'Undefined'"
      ]
     },
     "execution_count": 83,
     "metadata": {},
     "output_type": "execute_result"
    }
   ],
   "source": [
    "ln(0,0.0000001)"
   ]
  },
  {
   "cell_type": "code",
   "execution_count": null,
   "id": "869e3c48",
   "metadata": {},
   "outputs": [],
   "source": []
  },
  {
   "cell_type": "code",
   "execution_count": null,
   "id": "4201e419",
   "metadata": {},
   "outputs": [],
   "source": []
  },
  {
   "cell_type": "code",
   "execution_count": null,
   "id": "056aec50",
   "metadata": {},
   "outputs": [],
   "source": []
  },
  {
   "cell_type": "code",
   "execution_count": 9,
   "id": "a6a8af1e",
   "metadata": {},
   "outputs": [],
   "source": []
  },
  {
   "cell_type": "code",
   "execution_count": null,
   "id": "33326824",
   "metadata": {},
   "outputs": [],
   "source": []
  }
 ],
 "metadata": {
  "kernelspec": {
   "display_name": "Python 3",
   "language": "python",
   "name": "python3"
  },
  "language_info": {
   "codemirror_mode": {
    "name": "ipython",
    "version": 3
   },
   "file_extension": ".py",
   "mimetype": "text/x-python",
   "name": "python",
   "nbconvert_exporter": "python",
   "pygments_lexer": "ipython3",
   "version": "3.8.8"
  }
 },
 "nbformat": 4,
 "nbformat_minor": 5
}
