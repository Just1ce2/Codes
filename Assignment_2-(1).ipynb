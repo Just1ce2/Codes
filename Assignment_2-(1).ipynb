{
 "cells": [
  {
   "cell_type": "markdown",
   "id": "d4753f11",
   "metadata": {},
   "source": [
    " Before you turn this problem in, make sure everything runs as expected. First, **restart the kernel** (in the menubar, select Kernel$\\rightarrow$Restart) and then **run all cells** (in the menubar, select Cell$\\rightarrow$Run All).\n",
    "\n",
    "Make sure you fill in any place that says `YOUR CODE HERE` or \"YOUR ANSWER HERE\", as well as your name and collaborators below:"
   ]
  },
  {
   "cell_type": "code",
   "execution_count": 1,
   "id": "e71ba917",
   "metadata": {},
   "outputs": [],
   "source": [
    "NAME = \"\"\n",
    "COLLABORATORS = \"Aziz Razak\""
   ]
  },
  {
   "cell_type": "markdown",
   "id": "a4f8d238",
   "metadata": {},
   "source": []
  },
  {
   "cell_type": "markdown",
   "id": "406f9535",
   "metadata": {
    "deletable": false,
    "editable": false,
    "nbgrader": {
     "cell_type": "markdown",
     "checksum": "ebb857dc911490b1aa66c28093efa6c6",
     "grade": false,
     "grade_id": "assignment_rules",
     "locked": true,
     "schema_version": 3,
     "solution": false,
     "task": false
    }
   },
   "source": [
    "Every question here is to be solved using basic python functions and functions from the math module. Numpy should NOT be utilized for this assignment. Do not alter the function name as that will cause your code not to run which will result in you failing the assignment."
   ]
  },
  {
   "cell_type": "code",
   "execution_count": 4,
   "id": "dfce3139",
   "metadata": {
    "deletable": false,
    "editable": false,
    "nbgrader": {
     "cell_type": "code",
     "checksum": "77ec2d30948955c4f9e1504b304161f8",
     "grade": false,
     "grade_id": "my_imports",
     "locked": true,
     "schema_version": 3,
     "solution": false,
     "task": false
    }
   },
   "outputs": [],
   "source": [
    "from math import log2, ceil, sqrt"
   ]
  },
  {
   "cell_type": "markdown",
   "id": "1033f58f",
   "metadata": {
    "deletable": false,
    "editable": false,
    "nbgrader": {
     "cell_type": "markdown",
     "checksum": "91c72925fad01ba4d5358cc2f83c1f49",
     "grade": false,
     "grade_id": "var_naming_question",
     "locked": true,
     "schema_version": 3,
     "solution": false,
     "task": false
    }
   },
   "source": [
    "In this first question, we have a function that takes a parameter and returns \"Hello \"+ parameter. If your input is \"Python\", your function should return \"Hello Python\", if your input is 24, your function should return \"Hello 24.\"\n",
    "\n",
    "This code has an error. \n",
    "* With your knowledge about the rules for variable names in python, correct the error in the function parameter.\n",
    "* Your function should return the same result for both strings and integer so it is important as well to cast the variable to a string in the final return statement.\n",
    "* Complete the function, ending with the return statement.\n",
    "* Do not change the function name."
   ]
  },
  {
   "cell_type": "code",
   "execution_count": 1,
   "id": "b3165137",
   "metadata": {
    "deletable": false,
    "nbgrader": {
     "cell_type": "code",
     "checksum": "2f023c3e71821c8b5c377fd62568a312",
     "grade": false,
     "grade_id": "var_naming",
     "locked": false,
     "schema_version": 3,
     "solution": true,
     "task": false
    }
   },
   "outputs": [
    {
     "data": {
      "text/plain": [
       "'Hello 25'"
      ]
     },
     "execution_count": 1,
     "metadata": {},
     "output_type": "execute_result"
    }
   ],
   "source": [
    "def greeter(_1std):\n",
    "    # YOUR CODE HERE\n",
    "    return \"Hello \"+ str(_1std)\n",
    "\n",
    "greeter(25)"
   ]
  },
  {
   "cell_type": "code",
   "execution_count": null,
   "id": "54c3d700",
   "metadata": {
    "deletable": false,
    "editable": false,
    "nbgrader": {
     "cell_type": "code",
     "checksum": "1963bce334eb0c288593f566de5e9543",
     "grade": true,
     "grade_id": "var_naming_test",
     "locked": true,
     "points": 5,
     "schema_version": 3,
     "solution": false,
     "task": false
    }
   },
   "outputs": [],
   "source": []
  },
  {
   "cell_type": "markdown",
   "id": "0939f130",
   "metadata": {
    "deletable": false,
    "editable": false,
    "nbgrader": {
     "cell_type": "markdown",
     "checksum": "a95828df6cb962af76c1a9be2552f553",
     "grade": false,
     "grade_id": "next_p2_question",
     "locked": true,
     "schema_version": 3,
     "solution": false,
     "task": false
    }
   },
   "source": [
    "Our next question finds the next power of 2 given a specific integer. For instance if the input is 12, then the next power of two greater than or equal to the number is 16. If the number is 32, then since 32 is already a power of two, it will return 32. \n",
    "\n",
    "The following mathematical analysis would be helpful.\n",
    "$$ x = 2^n$$Thus\n",
    "$$\\log_2 x = \\log_2 2^n$$\n",
    "if $n$ is an integer, we return $2^n.$ If $n$ is not an integer, then $x$ is not a power of 2 hence we return $2^N$ where $N$ is the smallest integer $\\ge n.$ This function is available in python's math module as ceil. "
   ]
  },
  {
   "cell_type": "code",
   "execution_count": 5,
   "id": "c15ee46c",
   "metadata": {
    "deletable": false,
    "nbgrader": {
     "cell_type": "code",
     "checksum": "00e8a1041146752e6723aa90f70471e5",
     "grade": false,
     "grade_id": "next_p2",
     "locked": false,
     "schema_version": 3,
     "solution": true,
     "task": false
    }
   },
   "outputs": [
    {
     "data": {
      "text/plain": [
       "16"
      ]
     },
     "execution_count": 5,
     "metadata": {},
     "output_type": "execute_result"
    }
   ],
   "source": [
    "def nextpow2(x):\n",
    "    # YOUR CODE HERE\n",
    "    \n",
    "    if x == 0:\n",
    "        return 1\n",
    "    else:\n",
    "        n = ceil(log2(x))\n",
    "    return 2**n\n",
    "    \n",
    "    raise NotImplementedError()\n",
    "nextpow2(12)"
   ]
  },
  {
   "cell_type": "code",
   "execution_count": null,
   "id": "55baca16",
   "metadata": {
    "deletable": false,
    "editable": false,
    "nbgrader": {
     "cell_type": "code",
     "checksum": "7d0184ff25aa0da92b564289a2c27f11",
     "grade": true,
     "grade_id": "next_p2_test",
     "locked": true,
     "points": 10,
     "schema_version": 3,
     "solution": false,
     "task": false
    }
   },
   "outputs": [],
   "source": []
  },
  {
   "cell_type": "markdown",
   "id": "a702cc64",
   "metadata": {
    "deletable": false,
    "editable": false,
    "nbgrader": {
     "cell_type": "markdown",
     "checksum": "d8da37af3d52d06d74065cb87525289b",
     "grade": false,
     "grade_id": "is_geo_prog_question",
     "locked": true,
     "schema_version": 3,
     "solution": false,
     "task": false
    }
   },
   "source": [
    "This question tests if the elements of a list form a geometric progression. A GP is the sequence $a,ar,ar^2,ar^3,ar^4,\\ldots,.$ You will notice two things here\n",
    "* If we divide every element of the GP (list) by the first element, we have the list $1,r,r^2,r^3,r^4,\\ldots,$\n",
    "* We also have that \n",
    "$$\\frac{ar}{a}=\\frac{ar^2}{ar}=\\frac{ar^3}{ar^2}=\\ldots=r$$\n",
    "Given the input inlist, your function should return True if the elements constitute a GP and False otherwise."
   ]
  },
  {
   "cell_type": "code",
   "execution_count": 6,
   "id": "c7dda169",
   "metadata": {
    "deletable": false,
    "nbgrader": {
     "cell_type": "code",
     "checksum": "4f94c92fc1b3f79b30a568ca2d2b7d04",
     "grade": false,
     "grade_id": "is_geo_prog",
     "locked": false,
     "schema_version": 3,
     "solution": true,
     "task": false
    }
   },
   "outputs": [
    {
     "data": {
      "text/plain": [
       "False"
      ]
     },
     "execution_count": 6,
     "metadata": {},
     "output_type": "execute_result"
    }
   ],
   "source": [
    "def isGP(inlist):\n",
    "    #YOUR CODE HERE\n",
    "    if len(inlist) <= 1:\n",
    "        return True\n",
    "    ratio = inlist[1]/float(inlist[0]) \n",
    "    for i in range(1,len(inlist)):\n",
    "        if inlist[i]/float(inlist[i-1]) != ratio: \n",
    "            return False\n",
    "    return True \n",
    "    raise NotImplementedError()\n",
    "isGP([3,9,8,16])"
   ]
  },
  {
   "cell_type": "code",
   "execution_count": null,
   "id": "8bc864ca",
   "metadata": {
    "deletable": false,
    "editable": false,
    "nbgrader": {
     "cell_type": "code",
     "checksum": "ad9eaaddc2fb522112fc9ce16f3a6c78",
     "grade": true,
     "grade_id": "is_geo_prog_test",
     "locked": true,
     "points": 10,
     "schema_version": 3,
     "solution": false,
     "task": false
    }
   },
   "outputs": [],
   "source": []
  },
  {
   "cell_type": "markdown",
   "id": "a2eaa503",
   "metadata": {
    "deletable": false,
    "editable": false,
    "nbgrader": {
     "cell_type": "markdown",
     "checksum": "782cd1ce2d35d3e4548a887cd4f881f9",
     "grade": false,
     "grade_id": "nat_log_question",
     "locked": true,
     "schema_version": 3,
     "solution": false,
     "task": false
    }
   },
   "source": [
    "In calculus, we learn that $$\\ln(x)=\\int_1^{x}\\frac{1}{t}dt=\\int_1^{x}f(t)dt.$$ We also learnt to approximate the integral as a sum. That is Given the interval $[1,x],$ if the interval is divided into subintervals with width $h,$ then $x_i = 1+ih$ and \n",
    "$$f(x_i)=\\frac{1}{1+ih}.$$ The area of the $i^{th}$ rectangle is thus \n",
    "$$A_i=\\frac{h}{1+ih}$$ and the area of the entire interval can be approximated as the sum\n",
    "$$A = \\sum_{i=1}^{n}A_i=\\sum_{i=1}^{n}\\frac{h}{1+ih}.$$\n",
    "Thus $$\\ln(x,h)\\approx\\sum_{i=1}^{n}\\frac{h}{1+ih}$$ where $1+nh=x.$ Write the function ln(x,h) that takes as input x, the number whose natural logarithm we wish to find and h is the with of the approximating rectangles."
   ]
  },
  {
   "cell_type": "code",
   "execution_count": 7,
   "id": "bc20d6e2",
   "metadata": {
    "deletable": false,
    "nbgrader": {
     "cell_type": "code",
     "checksum": "80c5325d51de374363f03c6d647e95dc",
     "grade": false,
     "grade_id": "nat_log",
     "locked": false,
     "schema_version": 3,
     "solution": true,
     "task": false
    }
   },
   "outputs": [
    {
     "data": {
      "text/plain": [
       "1.0983456494246193"
      ]
     },
     "execution_count": 7,
     "metadata": {},
     "output_type": "execute_result"
    }
   ],
   "source": [
    "def ln(x,h):\n",
    "    # YOUR CODE HERE\n",
    "    A = 0\n",
    "    n = ceil((x-1)/h)\n",
    "    for i in range(1,n+1):\n",
    "        a = h/(1+h*i)\n",
    "        A = A + a\n",
    "    return A\n",
    "    raise NotImplementedError()\n",
    "ln(3,0.0010001)"
   ]
  },
  {
   "cell_type": "code",
   "execution_count": null,
   "id": "599ad844",
   "metadata": {
    "deletable": false,
    "editable": false,
    "nbgrader": {
     "cell_type": "code",
     "checksum": "3efbecb56769f7153dee3d1532d43020",
     "grade": true,
     "grade_id": "nat_log_test",
     "locked": true,
     "points": 15,
     "schema_version": 3,
     "solution": false,
     "task": false
    }
   },
   "outputs": [],
   "source": []
  }
 ],
 "metadata": {
  "kernelspec": {
   "display_name": "Python 3",
   "language": "python",
   "name": "python3"
  },
  "language_info": {
   "codemirror_mode": {
    "name": "ipython",
    "version": 3
   },
   "file_extension": ".py",
   "mimetype": "text/x-python",
   "name": "python",
   "nbconvert_exporter": "python",
   "pygments_lexer": "ipython3",
   "version": "3.8.8"
  }
 },
 "nbformat": 4,
 "nbformat_minor": 5
}
