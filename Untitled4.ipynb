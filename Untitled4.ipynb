{
 "cells": [
  {
   "cell_type": "code",
   "execution_count": 1,
   "id": "e6962e4a",
   "metadata": {},
   "outputs": [],
   "source": [
    "def dplaces():\n",
    "    num = input(\"Enter your number: \")\n",
    "    lnum = num.split(\".\")\n",
    "    if lnum[-1][-1]==\"0\":\n",
    "        print(f'{num} has {len(lnum[-1])-1} decimal place(s)')\n",
    "    elif lnum[-1] == num:\n",
    "        print(f'{num} has 0 decimal place(s)')\n",
    "    else :\n",
    "            print(f'{num} has {len(lnum[-1])} decimal place(s)') "
   ]
  },
  {
   "cell_type": "code",
   "execution_count": 43,
   "id": "b7ff8c22",
   "metadata": {},
   "outputs": [],
   "source": [
    "def binequiv():\n",
    "    num = int(input(\"Enter your number: \"))\n",
    "    rem = []   \n",
    "    while(num > 0 ):\n",
    "        x = (num % 2)\n",
    "        num = num // 2\n",
    "        \n",
    "        rem.append(x)\n",
    "        rem.reverse()\n",
    "        result = rem\n",
    "    return result\n",
    "    \n",
    "      "
   ]
  },
  {
   "cell_type": "code",
   "execution_count": 3,
   "id": "3279fd34",
   "metadata": {},
   "outputs": [],
   "source": [
    "def pythTriples(n):\n",
    "    \n",
    "    triples = []\n",
    "    \n",
    "    for i in range(1,n+1):\n",
    "        m = n + 1\n",
    "        a=n**2-n**2\n",
    "        b =2*n*n\n",
    "        c = n**2+n**2\n",
    "        triple = (a,b,c)\n",
    "        triples.append(triple)\n",
    "    return triples"
   ]
  },
  {
   "cell_type": "code",
   "execution_count": 4,
   "id": "7d6f09fb",
   "metadata": {},
   "outputs": [],
   "source": [
    "def taxpayment(n):\n",
    "    chargetax = [319,100,120,3000,16461]\n",
    "    taxunits = [0,5/100,10/100,17.5/100,25/100,30/100]\n",
    "    tax = [i in chargetax*i in taxunits]\n",
    "         \n",
    "        "
   ]
  },
  {
   "cell_type": "code",
   "execution_count": 5,
   "id": "eb356ebf",
   "metadata": {},
   "outputs": [
    {
     "data": {
      "text/plain": [
       "[(0, 18, 18), (0, 18, 18), (0, 18, 18)]"
      ]
     },
     "execution_count": 5,
     "metadata": {},
     "output_type": "execute_result"
    }
   ],
   "source": [
    "pythTriples(3)"
   ]
  },
  {
   "cell_type": "code",
   "execution_count": 44,
   "id": "4865f345",
   "metadata": {},
   "outputs": [
    {
     "name": "stdout",
     "output_type": "stream",
     "text": [
      "Enter your number: 23\n"
     ]
    },
    {
     "data": {
      "text/plain": [
       "[1, 1, 1, 1, 0]"
      ]
     },
     "execution_count": 44,
     "metadata": {},
     "output_type": "execute_result"
    }
   ],
   "source": [
    "binequiv()"
   ]
  },
  {
   "cell_type": "code",
   "execution_count": 7,
   "id": "393b1412",
   "metadata": {},
   "outputs": [
    {
     "ename": "SyntaxError",
     "evalue": "invalid syntax (<ipython-input-7-653922fe7749>, line 10)",
     "output_type": "error",
     "traceback": [
      "\u001b[1;36m  File \u001b[1;32m\"<ipython-input-7-653922fe7749>\"\u001b[1;36m, line \u001b[1;32m10\u001b[0m\n\u001b[1;33m    elif fxn == \"ax^2+bx\" or \"ax**2+bx\":\u001b[0m\n\u001b[1;37m    ^\u001b[0m\n\u001b[1;31mSyntaxError\u001b[0m\u001b[1;31m:\u001b[0m invalid syntax\n"
     ]
    }
   ],
   "source": [
    "def quadroots():\n",
    "    fxn = input(\"Enter your quadratic equation: \")\n",
    "    coeffs = fxn.split(\"+\")\n",
    "    if fxn == \"ax^2+c\" or \"ax**2+c\":\n",
    "        b == 0\n",
    "    if coeffs[0]==\"x^2\" or \"x**2\":\n",
    "        a==1\n",
    "    else :\n",
    "        a = int(coeffs[0][0])\n",
    "    elif fxn == \"ax^2+bx\" or \"ax**2+bx\":\n",
    "        c==0\n",
    "        if coeffs[0]==\"x^2\" or \"x**2\":\n",
    "            a==1\n",
    "        else :\n",
    "            a = int(coeffs[0][0])\n",
    "        else :\n",
    "            if coeffs[0]==\"x^2\" or \"x**2\":\n",
    "            a==1\n",
    "        else :\n",
    "            a = int(coeffs[0][0])\n",
    "        if coeffs[1]==\"x\":\n",
    "            b==1\n",
    "        else:\n",
    "            b = int(coeffs[1][0])\n",
    "    c = int(coeffs[2])\n",
    "    \n",
    "    r1 = (-b-(b**2-4*a*c)**0.5)/(2*a)\n",
    "    r2 = (-b+(b**2-4*a*c)**0.5)/(2*a)\n",
    "    if r1==r2:\n",
    "        print(f'The roots of {fxn} is {r1}')\n",
    "    else:\n",
    "        print(f'The roots of {fxn} are {r1} and {r2}')\n",
    "    "
   ]
  },
  {
   "cell_type": "code",
   "execution_count": 21,
   "id": "dde1842f",
   "metadata": {},
   "outputs": [],
   "source": [
    "def strlocs(h):\n",
    "    occurrence = []\n",
    "    for i in range(len(h)):\n",
    "        if h[i]==\" \":\n",
    "            occurrence.append(i)\n",
    "    return occurrence "
   ]
  },
  {
   "cell_type": "code",
   "execution_count": null,
   "id": "c6db30e1",
   "metadata": {},
   "outputs": [],
   "source": [
    "\"ax**2+2x+2\".reverse()"
   ]
  },
  {
   "cell_type": "code",
   "execution_count": 36,
   "id": "bee2c614",
   "metadata": {},
   "outputs": [
    {
     "name": "stdout",
     "output_type": "stream",
     "text": [
      "Enter your number: 23\n"
     ]
    },
    {
     "ename": "NameError",
     "evalue": "name 'num2' is not defined",
     "output_type": "error",
     "traceback": [
      "\u001b[1;31m---------------------------------------------------------------------------\u001b[0m",
      "\u001b[1;31mNameError\u001b[0m                                 Traceback (most recent call last)",
      "\u001b[1;32m<ipython-input-36-87df67e8c47d>\u001b[0m in \u001b[0;36m<module>\u001b[1;34m\u001b[0m\n\u001b[1;32m----> 1\u001b[1;33m \u001b[0mbinequiv\u001b[0m\u001b[1;33m(\u001b[0m\u001b[1;33m)\u001b[0m\u001b[1;33m\u001b[0m\u001b[1;33m\u001b[0m\u001b[0m\n\u001b[0m",
      "\u001b[1;32m<ipython-input-35-7f52586df5fd>\u001b[0m in \u001b[0;36mbinequiv\u001b[1;34m()\u001b[0m\n\u001b[0;32m      7\u001b[0m \u001b[1;33m\u001b[0m\u001b[0m\n\u001b[0;32m      8\u001b[0m         \u001b[0mrem\u001b[0m\u001b[1;33m.\u001b[0m\u001b[0mappend\u001b[0m\u001b[1;33m(\u001b[0m\u001b[0mx\u001b[0m\u001b[1;33m)\u001b[0m\u001b[1;33m\u001b[0m\u001b[1;33m\u001b[0m\u001b[0m\n\u001b[1;32m----> 9\u001b[1;33m         \u001b[0mresult\u001b[0m \u001b[1;33m=\u001b[0m \u001b[0mnum2\u001b[0m\u001b[1;33m\u001b[0m\u001b[1;33m\u001b[0m\u001b[0m\n\u001b[0m\u001b[0;32m     10\u001b[0m     \u001b[1;32mreturn\u001b[0m \u001b[0mresult\u001b[0m\u001b[1;33m\u001b[0m\u001b[1;33m\u001b[0m\u001b[0m\n\u001b[0;32m     11\u001b[0m \u001b[1;33m\u001b[0m\u001b[0m\n",
      "\u001b[1;31mNameError\u001b[0m: name 'num2' is not defined"
     ]
    }
   ],
   "source": [
    "binequiv()"
   ]
  },
  {
   "cell_type": "code",
   "execution_count": 22,
   "id": "63ba8e9f",
   "metadata": {},
   "outputs": [
    {
     "data": {
      "text/plain": [
       "[2, 7, 10]"
      ]
     },
     "execution_count": 22,
     "metadata": {},
     "output_type": "execute_result"
    }
   ],
   "source": [
    "strlocs(\"my name is kofi\" )"
   ]
  },
  {
   "cell_type": "code",
   "execution_count": 32,
   "id": "ac013913",
   "metadata": {},
   "outputs": [],
   "source": [
    "\n",
    "def pascals(n):\n",
    "    p = []\n",
    "    for i in range(n):\n",
    "        p.append([])\n",
    "        p.append(1)\n",
    "        for x in range(1,i):\n",
    "            a = p[i-1][x-1]+p[i-1][x]\n",
    "            p.append(a)\n",
    "            if n != 0:\n",
    "                p.append(1)\n",
    "    for i in range(n):\n",
    "        print(\" \"*(n-i),end=\" \",sep =\" \")\n",
    "        for x in range(0,i+1):\n",
    "            print('{0:6}'.format(p[i][x],end=\" \",sep =\" \"))\n",
    "    print()\n",
    "        "
   ]
  },
  {
   "cell_type": "markdown",
   "id": "942f0bd6",
   "metadata": {},
   "source": [
    " def unit_equilateral(n):\n",
    "    import math\n",
    "    import cmath\n",
    "    i =\n",
    "    for k in range(0,4):\n",
    "            z = math.cos((2*(math.pi)*k)/3)+cmath.(math.sin((2*(math.pi)*k)/3)j)\n",
    "            i = i.append(z)\n",
    "    return i   \n",
    "        \n",
    "    "
   ]
  },
  {
   "cell_type": "code",
   "execution_count": 6,
   "id": "8e26c5ae",
   "metadata": {},
   "outputs": [
    {
     "data": {
      "text/plain": [
       "'this is basic python'"
      ]
     },
     "execution_count": 6,
     "metadata": {},
     "output_type": "execute_result"
    }
   ],
   "source": [
    "from string import ascii_lowercase\n",
    "alphabet_list = list(ascii_lowercase)\n",
    "alphabet_list = [' ']+alphabet_list\n",
    "x = 'qefpxfpxzypf xmvqelk'\n",
    "y = ''\n",
    "# YOUR CODE HERE\n",
    "for i in x:\n",
    "    for x in alphabet_list:\n",
    "         x =(alphabet_list.index(i)+3)%27\n",
    "    y = y +  alphabet_list[x]    \n",
    "y"
   ]
  },
  {
   "cell_type": "code",
   "execution_count": 19,
   "id": "fd7b83be",
   "metadata": {},
   "outputs": [
    {
     "ename": "AttributeError",
     "evalue": "module 'cmath' has no attribute 'j'",
     "output_type": "error",
     "traceback": [
      "\u001b[1;31m---------------------------------------------------------------------------\u001b[0m",
      "\u001b[1;31mAttributeError\u001b[0m                            Traceback (most recent call last)",
      "\u001b[1;32m<ipython-input-19-7c9f800097bf>\u001b[0m in \u001b[0;36m<module>\u001b[1;34m\u001b[0m\n\u001b[1;32m----> 1\u001b[1;33m \u001b[0munit_equilateral\u001b[0m\u001b[1;33m(\u001b[0m\u001b[1;36m1\u001b[0m\u001b[1;33m+\u001b[0m\u001b[1;36m1j\u001b[0m\u001b[1;33m)\u001b[0m\u001b[1;33m\u001b[0m\u001b[1;33m\u001b[0m\u001b[0m\n\u001b[0m",
      "\u001b[1;32m<ipython-input-18-ff288529b981>\u001b[0m in \u001b[0;36munit_equilateral\u001b[1;34m(n)\u001b[0m\n\u001b[0;32m      4\u001b[0m     \u001b[0mi\u001b[0m \u001b[1;33m=\u001b[0m\u001b[1;33m[\u001b[0m\u001b[1;33m]\u001b[0m\u001b[1;33m\u001b[0m\u001b[1;33m\u001b[0m\u001b[0m\n\u001b[0;32m      5\u001b[0m     \u001b[1;32mfor\u001b[0m \u001b[0mk\u001b[0m \u001b[1;32min\u001b[0m \u001b[0mrange\u001b[0m\u001b[1;33m(\u001b[0m\u001b[1;36m0\u001b[0m\u001b[1;33m,\u001b[0m\u001b[1;36m4\u001b[0m\u001b[1;33m)\u001b[0m\u001b[1;33m:\u001b[0m\u001b[1;33m\u001b[0m\u001b[1;33m\u001b[0m\u001b[0m\n\u001b[1;32m----> 6\u001b[1;33m             \u001b[0mz\u001b[0m \u001b[1;33m=\u001b[0m \u001b[0mmath\u001b[0m\u001b[1;33m.\u001b[0m\u001b[0mcos\u001b[0m\u001b[1;33m(\u001b[0m\u001b[1;33m(\u001b[0m\u001b[1;36m2\u001b[0m\u001b[1;33m*\u001b[0m\u001b[1;33m(\u001b[0m\u001b[0mmath\u001b[0m\u001b[1;33m.\u001b[0m\u001b[0mpi\u001b[0m\u001b[1;33m)\u001b[0m\u001b[1;33m*\u001b[0m\u001b[0mk\u001b[0m\u001b[1;33m)\u001b[0m\u001b[1;33m/\u001b[0m\u001b[1;36m3\u001b[0m\u001b[1;33m)\u001b[0m\u001b[1;33m+\u001b[0m\u001b[0mcmath\u001b[0m\u001b[1;33m.\u001b[0m\u001b[0mj\u001b[0m\u001b[1;33m(\u001b[0m\u001b[0mmath\u001b[0m\u001b[1;33m.\u001b[0m\u001b[0msin\u001b[0m\u001b[1;33m(\u001b[0m\u001b[1;33m(\u001b[0m\u001b[1;36m2\u001b[0m\u001b[1;33m*\u001b[0m\u001b[1;33m(\u001b[0m\u001b[0mmath\u001b[0m\u001b[1;33m.\u001b[0m\u001b[0mpi\u001b[0m\u001b[1;33m)\u001b[0m\u001b[1;33m*\u001b[0m\u001b[0mk\u001b[0m\u001b[1;33m)\u001b[0m\u001b[1;33m/\u001b[0m\u001b[1;36m3\u001b[0m\u001b[1;33m)\u001b[0m\u001b[1;33m)\u001b[0m\u001b[1;33m\u001b[0m\u001b[1;33m\u001b[0m\u001b[0m\n\u001b[0m\u001b[0;32m      7\u001b[0m             \u001b[0mi\u001b[0m \u001b[1;33m=\u001b[0m \u001b[0mi\u001b[0m\u001b[1;33m.\u001b[0m\u001b[0mappend\u001b[0m\u001b[1;33m(\u001b[0m\u001b[0mz\u001b[0m\u001b[1;33m)\u001b[0m\u001b[1;33m\u001b[0m\u001b[1;33m\u001b[0m\u001b[0m\n\u001b[0;32m      8\u001b[0m     \u001b[1;32mreturn\u001b[0m \u001b[0mi\u001b[0m\u001b[1;33m\u001b[0m\u001b[1;33m\u001b[0m\u001b[0m\n",
      "\u001b[1;31mAttributeError\u001b[0m: module 'cmath' has no attribute 'j'"
     ]
    }
   ],
   "source": [
    "unit_equilateral(1+1j)"
   ]
  },
  {
   "cell_type": "code",
   "execution_count": 27,
   "id": "6370de3d",
   "metadata": {},
   "outputs": [],
   "source": [
    "row0 = [1]\n",
    "row1 = [1,1]\n",
    "p =[]\n",
    "for i in range(6+1):\n",
    "    p= row0 + row1"
   ]
  },
  {
   "cell_type": "code",
   "execution_count": 7,
   "id": "8743e3a3",
   "metadata": {},
   "outputs": [
    {
     "data": {
      "text/plain": [
       "3.1105417369388597"
      ]
     },
     "execution_count": 7,
     "metadata": {},
     "output_type": "execute_result"
    }
   ],
   "source": [
    "import numpy as np\n",
    "import matplotlib.pyplot as plt\n",
    "x_val = np.linspace(-1, 1, 10)\n",
    "y_val = np.sqrt(1-x_val**2)\n",
    "c = np.sqrt((x_val[1:]-x_val[:-1])**2 +(y_val[1:]-y_val[:-1])**2)\n",
    "c.sum()"
   ]
  },
  {
   "cell_type": "code",
   "execution_count": 10,
   "id": "3e6d6bdc",
   "metadata": {},
   "outputs": [
    {
     "data": {
      "text/plain": [
       "6.123233995736766e-17"
      ]
     },
     "execution_count": 10,
     "metadata": {},
     "output_type": "execute_result"
    }
   ],
   "source": [
    "import math\n",
    "math.cos(math.pi/2)"
   ]
  },
  {
   "cell_type": "code",
   "execution_count": 13,
   "id": "5fc974a7",
   "metadata": {},
   "outputs": [
    {
     "data": {
      "text/plain": [
       "[<matplotlib.lines.Line2D at 0x1fe99a39550>]"
      ]
     },
     "execution_count": 13,
     "metadata": {},
     "output_type": "execute_result"
    },
    {
     "data": {
      "image/png": "[encoded data removed]",
      "text/plain": [
       "<Figure size 432x288 with 1 Axes>"
      ]
     },
     "metadata": {
      "needs_background": "light"
     },
     "output_type": "display_data"
    }
   ],
   "source": [
    "x_val = np.linspace(0, 2*np.pi, 201)\n",
    "y_val = np.sin(x_val)\n",
    "plt.plot(x_val[1:], (y_val[1:] > y_val[:-1]))"
   ]
  },
  {
   "cell_type": "code",
   "execution_count": 14,
   "id": "4bd7c5f4",
   "metadata": {},
   "outputs": [
    {
     "data": {
      "text/plain": [
       "[<matplotlib.lines.Line2D at 0x1fe99b1f040>]"
      ]
     },
     "execution_count": 14,
     "metadata": {},
     "output_type": "execute_result"
    },
    {
     "data": {
      "image/png": "[encoded data removed]",
      "text/plain": [
       "<Figure size 432x288 with 1 Axes>"
      ]
     },
     "metadata": {
      "needs_background": "light"
     },
     "output_type": "display_data"
    }
   ],
   "source": [
    "plt.plot(x_val, y_val)"
   ]
  },
  {
   "cell_type": "code",
   "execution_count": 15,
   "id": "3379c6ed",
   "metadata": {},
   "outputs": [],
   "source": [
    "tax_percent = np.array([0, 0.05, 0.1, 0.175, 0.25, 0.3])\n",
    "tax_brackets = np.array([319, 100, 120, 3000, 16461])\n",
    "cum_tax_brackets = tax_brackets.cumsum()\n",
    "cum_tax_brackets"
   ]
  },
  {
   "cell_type": "code",
   "execution_count": null,
   "id": "6a9f6161",
   "metadata": {},
   "outputs": [],
   "source": [
    "dplaces()"
   ]
  },
  {
   "cell_type": "code",
   "execution_count": null,
   "id": "7f5aca25",
   "metadata": {},
   "outputs": [],
   "source": [
    "u=alphabet_list[x]\n",
    "        y = y + u"
   ]
  },
  {
   "cell_type": "code",
   "execution_count": 11,
   "id": "61b41051",
   "metadata": {},
   "outputs": [
    {
     "ename": "NameError",
     "evalue": "name 'cos' is not defined",
     "output_type": "error",
     "traceback": [
      "\u001b[1;31m---------------------------------------------------------------------------\u001b[0m",
      "\u001b[1;31mNameError\u001b[0m                                 Traceback (most recent call last)",
      "\u001b[1;32m<ipython-input-11-95be79aac846>\u001b[0m in \u001b[0;36m<module>\u001b[1;34m\u001b[0m\n\u001b[0;32m      1\u001b[0m \u001b[1;32mimport\u001b[0m \u001b[0mmath\u001b[0m\u001b[1;33m\u001b[0m\u001b[1;33m\u001b[0m\u001b[0m\n\u001b[0;32m      2\u001b[0m \u001b[1;32mimport\u001b[0m \u001b[0mcmath\u001b[0m\u001b[1;33m\u001b[0m\u001b[1;33m\u001b[0m\u001b[0m\n\u001b[1;32m----> 3\u001b[1;33m \u001b[0mcos\u001b[0m\u001b[1;33m(\u001b[0m\u001b[0mpi\u001b[0m\u001b[1;33m/\u001b[0m\u001b[1;36m2\u001b[0m\u001b[1;33m)\u001b[0m\u001b[1;33m\u001b[0m\u001b[1;33m\u001b[0m\u001b[0m\n\u001b[0m",
      "\u001b[1;31mNameError\u001b[0m: name 'cos' is not defined"
     ]
    }
   ],
   "source": [
    "import math\n",
    "import cmath\n",
    "cos(pi/2)"
   ]
  },
  {
   "cell_type": "code",
   "execution_count": 33,
   "id": "8ec03d6a",
   "metadata": {},
   "outputs": [
    {
     "ename": "TypeError",
     "evalue": "'int' object is not subscriptable",
     "output_type": "error",
     "traceback": [
      "\u001b[1;31m---------------------------------------------------------------------------\u001b[0m",
      "\u001b[1;31mTypeError\u001b[0m                                 Traceback (most recent call last)",
      "\u001b[1;32m<ipython-input-33-b2582683add3>\u001b[0m in \u001b[0;36m<module>\u001b[1;34m\u001b[0m\n\u001b[1;32m----> 1\u001b[1;33m \u001b[0mpascals\u001b[0m\u001b[1;33m(\u001b[0m\u001b[1;36m5\u001b[0m\u001b[1;33m)\u001b[0m\u001b[1;33m\u001b[0m\u001b[1;33m\u001b[0m\u001b[0m\n\u001b[0m",
      "\u001b[1;32m<ipython-input-32-8c6d5847cd4b>\u001b[0m in \u001b[0;36mpascals\u001b[1;34m(n)\u001b[0m\n\u001b[0;32m      5\u001b[0m         \u001b[0mp\u001b[0m\u001b[1;33m.\u001b[0m\u001b[0mappend\u001b[0m\u001b[1;33m(\u001b[0m\u001b[1;36m1\u001b[0m\u001b[1;33m)\u001b[0m\u001b[1;33m\u001b[0m\u001b[1;33m\u001b[0m\u001b[0m\n\u001b[0;32m      6\u001b[0m         \u001b[1;32mfor\u001b[0m \u001b[0mx\u001b[0m \u001b[1;32min\u001b[0m \u001b[0mrange\u001b[0m\u001b[1;33m(\u001b[0m\u001b[1;36m1\u001b[0m\u001b[1;33m,\u001b[0m\u001b[0mi\u001b[0m\u001b[1;33m)\u001b[0m\u001b[1;33m:\u001b[0m\u001b[1;33m\u001b[0m\u001b[1;33m\u001b[0m\u001b[0m\n\u001b[1;32m----> 7\u001b[1;33m             \u001b[0ma\u001b[0m \u001b[1;33m=\u001b[0m \u001b[0mp\u001b[0m\u001b[1;33m[\u001b[0m\u001b[0mi\u001b[0m\u001b[1;33m-\u001b[0m\u001b[1;36m1\u001b[0m\u001b[1;33m]\u001b[0m\u001b[1;33m[\u001b[0m\u001b[0mx\u001b[0m\u001b[1;33m-\u001b[0m\u001b[1;36m1\u001b[0m\u001b[1;33m]\u001b[0m\u001b[1;33m+\u001b[0m\u001b[0mp\u001b[0m\u001b[1;33m[\u001b[0m\u001b[0mi\u001b[0m\u001b[1;33m-\u001b[0m\u001b[1;36m1\u001b[0m\u001b[1;33m]\u001b[0m\u001b[1;33m[\u001b[0m\u001b[0mx\u001b[0m\u001b[1;33m]\u001b[0m\u001b[1;33m\u001b[0m\u001b[1;33m\u001b[0m\u001b[0m\n\u001b[0m\u001b[0;32m      8\u001b[0m             \u001b[0mp\u001b[0m\u001b[1;33m.\u001b[0m\u001b[0mappend\u001b[0m\u001b[1;33m(\u001b[0m\u001b[0ma\u001b[0m\u001b[1;33m)\u001b[0m\u001b[1;33m\u001b[0m\u001b[1;33m\u001b[0m\u001b[0m\n\u001b[0;32m      9\u001b[0m             \u001b[1;32mif\u001b[0m \u001b[0mn\u001b[0m \u001b[1;33m!=\u001b[0m \u001b[1;36m0\u001b[0m\u001b[1;33m:\u001b[0m\u001b[1;33m\u001b[0m\u001b[1;33m\u001b[0m\u001b[0m\n",
      "\u001b[1;31mTypeError\u001b[0m: 'int' object is not subscriptable"
     ]
    }
   ],
   "source": [
    "pascals(5)"
   ]
  },
  {
   "cell_type": "code",
   "execution_count": 15,
   "id": "4343d464",
   "metadata": {},
   "outputs": [
    {
     "ename": "AttributeError",
     "evalue": "'NoneType' object has no attribute 'append'",
     "output_type": "error",
     "traceback": [
      "\u001b[1;31m---------------------------------------------------------------------------\u001b[0m",
      "\u001b[1;31mAttributeError\u001b[0m                            Traceback (most recent call last)",
      "\u001b[1;32m<ipython-input-15-ad4d874ceb74>\u001b[0m in \u001b[0;36m<module>\u001b[1;34m\u001b[0m\n\u001b[1;32m----> 1\u001b[1;33m \u001b[0mpascals\u001b[0m\u001b[1;33m(\u001b[0m\u001b[1;36m2\u001b[0m\u001b[1;33m)\u001b[0m\u001b[1;33m\u001b[0m\u001b[1;33m\u001b[0m\u001b[0m\n\u001b[0m",
      "\u001b[1;32m<ipython-input-14-ca7e551a3eae>\u001b[0m in \u001b[0;36mpascals\u001b[1;34m(n)\u001b[0m\n\u001b[0;32m      2\u001b[0m     \u001b[0mp\u001b[0m \u001b[1;33m=\u001b[0m \u001b[1;33m[\u001b[0m\u001b[1;33m]\u001b[0m\u001b[1;33m\u001b[0m\u001b[1;33m\u001b[0m\u001b[0m\n\u001b[0;32m      3\u001b[0m     \u001b[1;32mfor\u001b[0m \u001b[0mi\u001b[0m \u001b[1;32min\u001b[0m \u001b[0mrange\u001b[0m\u001b[1;33m(\u001b[0m\u001b[0mn\u001b[0m\u001b[1;33m)\u001b[0m\u001b[1;33m:\u001b[0m\u001b[1;33m\u001b[0m\u001b[1;33m\u001b[0m\u001b[0m\n\u001b[1;32m----> 4\u001b[1;33m         \u001b[0mp\u001b[0m \u001b[1;33m=\u001b[0m \u001b[0mp\u001b[0m\u001b[1;33m.\u001b[0m\u001b[0mappend\u001b[0m\u001b[1;33m(\u001b[0m\u001b[0mn\u001b[0m\u001b[1;33m+\u001b[0m\u001b[1;36m1\u001b[0m\u001b[1;33m)\u001b[0m\u001b[1;33m\u001b[0m\u001b[1;33m\u001b[0m\u001b[0m\n\u001b[0m\u001b[0;32m      5\u001b[0m     \u001b[1;32mreturn\u001b[0m \u001b[0mp\u001b[0m\u001b[1;33m\u001b[0m\u001b[1;33m\u001b[0m\u001b[0m\n\u001b[0;32m      6\u001b[0m \u001b[1;33m\u001b[0m\u001b[0m\n",
      "\u001b[1;31mAttributeError\u001b[0m: 'NoneType' object has no attribute 'append'"
     ]
    }
   ],
   "source": [
    "pascals(2)"
   ]
  },
  {
   "cell_type": "markdown",
   "id": "29229419",
   "metadata": {},
   "source": []
  },
  {
   "cell_type": "code",
   "execution_count": null,
   "id": "648bec3b",
   "metadata": {},
   "outputs": [],
   "source": []
  },
  {
   "cell_type": "code",
   "execution_count": null,
   "id": "ca1ba11e",
   "metadata": {},
   "outputs": [],
   "source": []
  }
 ],
 "metadata": {
  "interpreter": {
   "hash": "42588fd11209419b7c81abe23e31a1d2101f60811b02170c268e57ebb57d5d9a"
  },
  "kernelspec": {
   "display_name": "Python 3",
   "language": "python",
   "name": "python3"
  },
  "language_info": {
   "codemirror_mode": {
    "name": "ipython",
    "version": 3
   },
   "file_extension": ".py",
   "mimetype": "text/x-python",
   "name": "python",
   "nbconvert_exporter": "python",
   "pygments_lexer": "ipython3",
   "version": "3.8.8"
  }
 },
 "nbformat": 4,
 "nbformat_minor": 5
}
