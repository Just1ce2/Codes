def nextpow2(x):
    from math import log2,ceil
    if x == 0:
        return 1
    else:
        n = ceil(log2(x))
    return 2**n
