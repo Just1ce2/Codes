{
 "cells": [
  {
   "cell_type": "code",
   "execution_count": 2,
   "id": "a70efeb0",
   "metadata": {},
   "outputs": [],
   "source": [
    "def add(a,b):\n",
    "    r = a+b\n",
    "    return r\n"
   ]
  },
  {
   "cell_type": "code",
   "execution_count": 5,
   "id": "4bba600e",
   "metadata": {},
   "outputs": [],
   "source": [
    "def name():\n",
    "    Name = input('What is your name?: ')\n",
    "    return Name \n",
    "\n"
   ]
  },
  {
   "cell_type": "code",
   "execution_count": 3,
   "id": "2a68e4f7",
   "metadata": {},
   "outputs": [
    {
     "data": {
      "text/plain": [
       "9"
      ]
     },
     "execution_count": 3,
     "metadata": {},
     "output_type": "execute_result"
    }
   ],
   "source": [
    "add(4,5)"
   ]
  },
  {
   "cell_type": "code",
   "execution_count": null,
   "id": "7bb5652f",
   "metadata": {},
   "outputs": [],
   "source": [
    "###### name()"
   ]
  },
  {
   "cell_type": "code",
   "execution_count": null,
   "id": "46662744",
   "metadata": {},
   "outputs": [],
   "source": []
  }
 ],
 "metadata": {
  "kernelspec": {
   "display_name": "Python 3",
   "language": "python",
   "name": "python3"
  },
  "language_info": {
   "codemirror_mode": {
    "name": "ipython",
    "version": 3
   },
   "file_extension": ".py",
   "mimetype": "text/x-python",
   "name": "python",
   "nbconvert_exporter": "python",
   "pygments_lexer": "ipython3",
   "version": "3.8.8"
  }
 },
 "nbformat": 4,
 "nbformat_minor": 5
}
