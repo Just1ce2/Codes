{
 "cells": [
  {
   "cell_type": "code",
   "execution_count": 1,
   "id": "e6962e4a",
   "metadata": {},
   "outputs": [],
   "source": [
    "def dplaces():\n",
    "    num = input(\"Enter your number: \")\n",
    "    lnum = num.split(\".\")\n",
    "    if lnum[-1][-1]==\"0\":\n",
    "        print(f'{num} has {len(lnum[-1])-1} decimal place(s)')\n",
    "    elif lnum == num:\n",
    "        print(f'{num} has 0 decimal place(s)')\n",
    "    else :\n",
    "            print(f'{num} has {len(lnum[-1])} decimal place(s)') "
   ]
  },
  {
   "cell_type": "code",
   "execution_count": 2,
   "id": "b7ff8c22",
   "metadata": {},
   "outputs": [],
   "source": [
    "def binEquiv():\n",
    "    num1 = int(input(\"Enter your number: \"))\n",
    "    rem = \"\"\n",
    "    while(num1 >= 1):\n",
    "        num1 = num1 // 2\n",
    "        x = (num1 % 2)\n",
    "        num2 = rem+\"x\"\n",
    "        result = num1[-1:0:-1]\n",
    "    print(f'{result} is the binary  equivalent of  {num1}')\n",
    "    \n",
    "        "
   ]
  },
  {
   "cell_type": "code",
   "execution_count": 3,
   "id": "6465dff5",
   "metadata": {},
   "outputs": [
    {
     "name": "stdout",
     "output_type": "stream",
     "text": [
      "Enter your number: 23\n"
     ]
    },
    {
     "ename": "TypeError",
     "evalue": "'int' object is not subscriptable",
     "output_type": "error",
     "traceback": [
      "\u001b[1;31m---------------------------------------------------------------------------\u001b[0m",
      "\u001b[1;31mTypeError\u001b[0m                                 Traceback (most recent call last)",
      "\u001b[1;32m<ipython-input-3-97cda774301b>\u001b[0m in \u001b[0;36m<module>\u001b[1;34m\u001b[0m\n\u001b[1;32m----> 1\u001b[1;33m \u001b[0mbinEquiv\u001b[0m\u001b[1;33m(\u001b[0m\u001b[1;33m)\u001b[0m\u001b[1;33m\u001b[0m\u001b[1;33m\u001b[0m\u001b[0m\n\u001b[0m",
      "\u001b[1;32m<ipython-input-2-4328d381e1ea>\u001b[0m in \u001b[0;36mbinEquiv\u001b[1;34m()\u001b[0m\n\u001b[0;32m      6\u001b[0m         \u001b[0mx\u001b[0m \u001b[1;33m=\u001b[0m \u001b[1;33m(\u001b[0m\u001b[0mnum1\u001b[0m \u001b[1;33m%\u001b[0m \u001b[1;36m2\u001b[0m\u001b[1;33m)\u001b[0m\u001b[1;33m\u001b[0m\u001b[1;33m\u001b[0m\u001b[0m\n\u001b[0;32m      7\u001b[0m         \u001b[0mnum2\u001b[0m \u001b[1;33m=\u001b[0m \u001b[0mrem\u001b[0m\u001b[1;33m+\u001b[0m\u001b[1;34m\"x\"\u001b[0m\u001b[1;33m\u001b[0m\u001b[1;33m\u001b[0m\u001b[0m\n\u001b[1;32m----> 8\u001b[1;33m         \u001b[0mresult\u001b[0m \u001b[1;33m=\u001b[0m \u001b[0mnum1\u001b[0m\u001b[1;33m[\u001b[0m\u001b[1;33m-\u001b[0m\u001b[1;36m1\u001b[0m\u001b[1;33m:\u001b[0m\u001b[1;36m0\u001b[0m\u001b[1;33m:\u001b[0m\u001b[1;33m-\u001b[0m\u001b[1;36m1\u001b[0m\u001b[1;33m]\u001b[0m\u001b[1;33m\u001b[0m\u001b[1;33m\u001b[0m\u001b[0m\n\u001b[0m\u001b[0;32m      9\u001b[0m     \u001b[0mprint\u001b[0m\u001b[1;33m(\u001b[0m\u001b[1;34mf'{result} is the binary  equivalent of  {num1}'\u001b[0m\u001b[1;33m)\u001b[0m\u001b[1;33m\u001b[0m\u001b[1;33m\u001b[0m\u001b[0m\n\u001b[0;32m     10\u001b[0m \u001b[1;33m\u001b[0m\u001b[0m\n",
      "\u001b[1;31mTypeError\u001b[0m: 'int' object is not subscriptable"
     ]
    }
   ],
   "source": [
    "binEquiv()"
   ]
  },
  {
   "cell_type": "code",
   "execution_count": 1,
   "id": "3279fd34",
   "metadata": {},
   "outputs": [],
   "source": [
    "def pythTriples():\n",
    "    Input1 = int(input(\"Enter your number: \"))\n",
    "    triples = [0,0,0]\n",
    "    count = 0\n",
    "    while count < Input1:\n",
    "        if count%2 == 0:\n",
    "            triples[0]= count\n",
    "            triples[1]= int((count / 2)**2-1)\n",
    "            triples[2]=int((count / 2)**2+1)\n",
    "        else :\n",
    "            triples[0]= count\n",
    "            triples[1]= int((count**2-1)/2)\n",
    "            triples[2]=int((count**2+1)/2)\n",
    "        if (triples[0]<triples[1] and triples[0]<triples[2]):\n",
    "            print(triples)\n",
    "        else :\n",
    "            Input1 += Input1\n",
    "            count += count"
   ]
  },
  {
   "cell_type": "code",
   "execution_count": null,
   "id": "94273b3e",
   "metadata": {},
   "outputs": [],
   "source": [
    "num1 = int(input(\"Enter your number: \"))\n",
    "rem = \"\"\n",
    "while(num1 > 1):\n",
    "    numPrime = num1 // 2\n",
    "    x = num1%2\n",
    "    num2 = rem+\"x\"\n",
    "    result = num2[-1:0:-1]\n",
    "print(f'{result} is the binary  equivalent of  {num1}')"
   ]
  },
  {
   "cell_type": "code",
   "execution_count": null,
   "id": "e6c032ae",
   "metadata": {},
   "outputs": [],
   "source": [
    "num1"
   ]
  },
  {
   "cell_type": "code",
   "execution_count": null,
   "id": "9504fff1",
   "metadata": {},
   "outputs": [],
   "source": [
    "rem.append(1)"
   ]
  },
  {
   "cell_type": "code",
   "execution_count": null,
   "id": "9d5bd1e1",
   "metadata": {},
   "outputs": [],
   "source": [
    "\"nae\"+\"s\""
   ]
  },
  {
   "cell_type": "code",
   "execution_count": null,
   "id": "7d6f09fb",
   "metadata": {},
   "outputs": [],
   "source": []
  }
 ],
 "metadata": {
  "kernelspec": {
   "display_name": "Python 3",
   "language": "python",
   "name": "python3"
  },
  "language_info": {
   "codemirror_mode": {
    "name": "ipython",
    "version": 3
   },
   "file_extension": ".py",
   "mimetype": "text/x-python",
   "name": "python",
   "nbconvert_exporter": "python",
   "pygments_lexer": "ipython3",
   "version": "3.8.8"
  }
 },
 "nbformat": 4,
 "nbformat_minor": 5
}
