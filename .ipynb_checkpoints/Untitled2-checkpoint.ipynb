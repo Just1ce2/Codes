{
 "cells": [
  {
   "cell_type": "code",
   "execution_count": 4,
   "id": "b740ee97",
   "metadata": {},
   "outputs": [
    {
     "data": {
      "text/plain": [
       "[1, 6]"
      ]
     },
     "execution_count": 4,
     "metadata": {},
     "output_type": "execute_result"
    }
   ],
   "source": [
    "n = 32456\n",
    "factors = []\n",
    "for i in range(1,n+1):\n",
    "    if n%i == 0:\n",
    "        factors.append\n",
    "            \n",
    "factors\n"
   ]
  },
  {
   "cell_type": "code",
   "execution_count": null,
   "id": "328f2fc7",
   "metadata": {},
   "outputs": [],
   "source": []
  }
 ],
 "metadata": {
  "kernelspec": {
   "display_name": "Python 3",
   "language": "python",
   "name": "python3"
  },
  "language_info": {
   "codemirror_mode": {
    "name": "ipython",
    "version": 3
   },
   "file_extension": ".py",
   "mimetype": "text/x-python",
   "name": "python",
   "nbconvert_exporter": "python",
   "pygments_lexer": "ipython3",
   "version": "3.8.8"
  }
 },
 "nbformat": 4,
 "nbformat_minor": 5
}
